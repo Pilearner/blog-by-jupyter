{
 "cells": [
  {
   "cell_type": "markdown",
   "metadata": {},
   "source": [
    "# JupyterLab 整装待发\n",
    "> 原文地址：[JupyterLab is Ready for Users](https://medium.com/@brianray_7981/jupyterlab-first-impressions-e6d70d8a175d)"
   ]
  },
  {
   "cell_type": "markdown",
   "metadata": {},
   "source": [
    "我们自豪地发布 JupyterLab 的 beta 系列版本，这是为 Jupyter 项目提供的下一代web界面。\n",
    "\n",
    "> Jupyter项目简介  \n",
    "> 2014年, Fernando Pérez 公布了一个名为 Jupyter 的项目，它是从IPython项目中分拆而来。在Jupyter项目中，IPython 继续作为 Python 语言的 shell 和 内核，但项目中的笔记界面（ notebook ）和语言无关的部分被移动到 Jupyter 的名字空间下。 Jupyter 是语言无关的项目，它的名字来源于 Jupyter 支持的主要编程语言，Jupyter 是 **Ju**lia，**Pyt**hon 和 **r**。  \n",
    "> Jupyter Notebook(前身为 IPython 笔记本)是一个基于web界面的交互式计算环境，用于创建、执行和可视化 Jupyter 笔记本。 它类似于Maple，Mathematica，和 SageMath这些程序的笔记本交互界面，这种计算交互的风格，起源于1980年代的 Mathematica。它支持数十种语言的执行环境(又称核心环境)。默认情况下，Jupyter 笔记本应用程序的内核为 IPython，但截至2018年5月，有超过100个编程语言kernels。\n",
    "\n",
    "Jupyterlab 已经准备好成为您日常生活的一部分。[文档](http://jupyterlab.readthedocs.io/en/stable/getting_started/overview.html))"
   ]
  },
  {
   "cell_type": "markdown",
   "metadata": {},
   "source": [
    "## Jupyter Notebook的演化\n",
    "\n",
    "Jupyter Notebook 项目旨在发展开源软件、开放标准以及交互式和可复制的计算服务。\n",
    "\n",
    "自2011年以来，Jupyter Notebook 一直是我们**创造可复制计算描述**的旗舰项目。 Jupyter Notebook 使用户能够创建和分享文档，这些文档将实时代码与叙事文本、数学方程式、可视化、交互式控制和其他丰富的输出结合起来。 它还提供了用数据进行交互式计算的基础: 文件浏览器、终端和文本编辑器。\n",
    "\n",
    "随着数据科学和机器学习的迅速发展，以及行业和学术界的开源软件越来越受欢迎，Jupyter 笔记本已经无处不在：\n",
    "\n",
    "* 如今，从数据科学、机器学习到音乐和教育，Jupyter 笔记本在许多领域拥有数百万的用户。 我们的国际社区的成员几乎来自地球上的每一个国家；\n",
    "\n",
    "* 现在 Jupyter Notebook支持了[100种编程语言](https://github.com/jupyter/jupyter/wiki/Jupyter-kernels)，其中大部分都是由社区开发；\n",
    "\n",
    "* 目前有170万公共的 Jupyter Notebook托管在 GitHub 上。 作者们利用Jupyter Notebook在科学研究、学术期刊、数据新闻、教育课程和书籍等领域探索和写作。\n",
    "\n",
    "与此同时，社区在使用各种软件工作流时也面临着挑战，例如，单独使用笔记本，比如从文本文件中交互式地运行代码。从2011年开始在Web基础构建的经典 Jupyter Notebook难以订制和扩展。"
   ]
  },
  {
   "cell_type": "markdown",
   "metadata": {},
   "source": [
    "## Jupyterlab: 准备好了\n",
    "\n",
    "JupyterLab是为处理笔记本、代码和数据而生的交互式开发环境。 **最重要的是，JupyterLab 兼容 Jupyter Notebook**。 此外，JupyterLab 允许您使用文本编辑器、终端、数据文件查看器以及其他定制组件，与 Notebook 同时使用。\n",
    "\n",
    "![image](https://cdn-images-1.medium.com/max/1600/1*O20XGvUOTLoFKQ9o20usIA.png)  \n",
    "允许你用笔记本、文本文件、终端和笔记本输出来安排你的工作区域\n",
    "\n",
    "在笔记本、文档和活动之间提供高水平的整合:\n",
    "\n",
    "* 对cell拖拽操作，可完成重新排列Notebook，和在Notebook之间复制的工作；\n",
    "* 在文本文件中交互运行代码块(.py, .R, .md, .tex, 等等)；\n",
    "* 将代码控制台Notebook内核连接起来，可以交互地探索代码，而不需要用临时将一堆Notebook凑起来查查找找；  \n",
    "* 编辑Markdown，JSON，CSV，Vega，VegaLite 等文件时可实现即时预览。\n",
    "\n",
    "JupyterLab已经做了三年多了，有超过11000个提交和2000个 npm 和 Python 软件包的发布。 来自社区的100多个贡献者，协助核心开发者建立了 JupyterLab。\n",
    "\n",
    "开始使用 JupyterLab ，请参阅 JupyterLab 文档的([安装](http://jupyterlab.readthedocs.io/en/stable/getting_started/installation.html)和导览，或尝试[在Binder中尝试JupyterLab](https://mybinder.org/v2/gh/jupyterlab/jupyterlab-demo/18a9793b58ba86660b5ab964e1aeaf7324d667c8?urlpath=lab%2Ftree%2Fdemo%2FLorenz.ipynb)。 你也可以建立 [JupyterHub](http://jupyterlab.readthedocs.io/en/stable/user/jupyterhub.html) 来使用 JupyterLab。\n",
    "\n",
    "> 什么是Binder  \n",
    "> 将一个Github仓库转换为一系列可交互的notebook。\n",
    "> 有一个放满了 Jupyter notebook 的 git 仓库？使用Binder，可将这些notebook在一个可执行环境中打开，令代码立即可复现，无论何时何地。  \n",
    "> 地址https://mybinder.org/"
   ]
  },
  {
   "cell_type": "markdown",
   "metadata": {},
   "source": [
    "## 定制你的 JupyterLab 体验\n",
    "\n",
    "JupyterLab在一个扩扎插件系统的基础上构建，所以用户可以通过安装额外的扩展来定制和增强 JupyterLab。 事实上，JupyterLab 本身的内置功能(笔记本、终端、文件浏览器、菜单系统等)就是由一组核心扩展提供的。\n",
    "\n",
    "![image](https://cdn-images-1.medium.com/max/1600/1*OneJZOqKqBZ9oN80kRX7kQ.png)\n",
    "\n",
    "除此之外，扩展可以:\n",
    "* 提供新的主题、文件编辑器和查看器，或者是笔记本上丰富的输出的渲染器;\n",
    "* 添加菜单项、键盘快捷键或高级设置选项;\n",
    "* 提供其他扩展使用的 API\n",
    "\n",
    "Github 上的社区开发的扩展会被 jupyterlab 主题标记，目前包括文件查看器(GeoJSON，FASTA 等) ，Google Drive 集成，GitHub 浏览，以及 ipywidgets 支持。"
   ]
  },
  {
   "cell_type": "markdown",
   "metadata": {},
   "source": [
    "## 开发 JupyterLab 扩展\n",
    "\n",
    "尽管许多 JupyterLab 用户会安装额外的 JupyterLab 扩展，但是你们中的一些人会想要开发自己的扩展。 扩展开发 API 在 beta 版本系列期间正在发展，并将在 JupyterLab 1.0中稳定下来。 要开始开发一个 JupyterLab 扩展，请参见 JupyterLab 扩展开发指南和 TypeScript 或 JavaScript 扩展模板。\n",
    "\n",
    "Jupyterlab 本身是在 PhosphorJS（一个用于构建可扩展、高性能、桌面式的 web 应用程序的JS库）的基础上共同开发的。我们使用了现代的 JavaScript 技术，比如 TypeScript，React，Lerna，Yarn 和 webpack。单元测试、文档、一致的编码标准和用户体验研究帮助我们维护高质量的应用程序。"
   ]
  },
  {
   "cell_type": "markdown",
   "metadata": {},
   "source": [
    "## JupyterHub 1.0及展望\n",
    "\n",
    "我们计划在2018年晚些时候发布 JupyterLab 1.0。 到1.0的 beta 版本将集中于稳定扩展开发 API、用户界面的改进以及其他核心功能。 测试版中的所有版本都足够稳定，可供日常使用。\n",
    "\n",
    "1.0将最终取代经典的 Jupyter 笔记本。 在整个过渡过程中，同样的笔记本文档格式将得到经典笔记本和 JupyterLab 的支持。"
   ]
  },
  {
   "cell_type": "markdown",
   "metadata": {},
   "source": [
    "## 参与其中\n",
    "\n",
    "你可以通过很多方式参与 JupyterLab 的工作。 我们欢迎朱比特社区所有成员的贡献:\n",
    "\n",
    "* 使用我们的扩展开发 API 来创建你自己的 JupyterLab 扩展。 如果您的扩展托管在 GitHub 上，请添加 jupyterlab-extension 话题(topic)方便其他用户进行检索。 在进化到一个稳定的 JupyterLab 1.0 的路途上，我们期待每一个用户的反馈。\n",
    "\n",
    "* 请通过 Github 的问题页(Issue)，或者Gitter 频道联系我们。如果你发现一个 bug，有问题，或者想要提供反馈，请加入回话。\n",
    "\n",
    "我们很高兴看到你使用和扩展 JupyterLab。"
   ]
  },
  {
   "cell_type": "markdown",
   "metadata": {},
   "source": [
    "We thank Bloomberg and Anaconda for their support and collaboration in developing JupyterLab. We also thank the Alfred P. Sloan Foundation, the Gordon and Betty Moore Foundation, and the Helmsley Charitable Trust for their support.\n",
    "\n",
    "[1] Based on the 249 country codes listed under ISO 3166–1, recent Google analytics data from 2018 indicates that jupyter.org has hosted visitors from 213 countries.\n",
    "\n",
    "[2] Data visualized in this screenshot is licensed CC-BY-NC 3.0. See http://datacanvas.org/public-transportation/ for more details."
   ]
  }
 ],
 "metadata": {
  "kernelspec": {
   "display_name": "Python 3",
   "language": "python",
   "name": "python3"
  },
  "language_info": {
   "codemirror_mode": {
    "name": "ipython",
    "version": 3
   },
   "file_extension": ".py",
   "mimetype": "text/x-python",
   "name": "python",
   "nbconvert_exporter": "python",
   "pygments_lexer": "ipython3",
   "version": "3.6.0"
  }
 },
 "nbformat": 4,
 "nbformat_minor": 2
}
